{
 "cells": [
  {
   "cell_type": "code",
   "execution_count": null,
   "metadata": {},
   "outputs": [],
   "source": [
    "import numpy as np\n",
    "import biot_savart_v4_3 as bs"
   ]
  },
  {
   "cell_type": "code",
   "execution_count": null,
   "metadata": {},
   "outputs": [],
   "source": [
    "bs.plot_coil(\"coil-4-top-1.txt\")"
   ]
  },
  {
   "cell_type": "code",
   "execution_count": null,
   "metadata": {},
   "outputs": [],
   "source": [
    "bs.plot_coil(\"coil-4-bottom-1.txt\")"
   ]
  },
  {
   "cell_type": "code",
   "execution_count": null,
   "metadata": {},
   "outputs": [],
   "source": [
    "for i in range(0, 12):\n",
    "    bs.write_target_volume(\n",
    "        f\"coil-4-top-{i}.txt\",\n",
    "        f\"targetvol-top-{i}.vol\",\n",
    "        (6, 6, 1),\n",
    "        (-3, -3, -0.5),\n",
    "        0.1,\n",
    "        0.1,\n",
    "    )\n",
    "    bs.write_target_volume(\n",
    "        f\"coil-4-bottom-{i}.txt\",\n",
    "        f\"targetvol-bottom-{i}.vol\",\n",
    "        (6, 6, 1),\n",
    "        (-3, -3, -0.5),\n",
    "        0.1,\n",
    "        0.1,\n",
    "    )"
   ]
  },
  {
   "cell_type": "code",
   "execution_count": null,
   "metadata": {},
   "outputs": [],
   "source": [
    "# read in the results\n",
    "top = [bs.read_target_volume(f\"targetvol-top-{i}.vol\") for i in range(0, 12)]\n",
    "bottom = [bs.read_target_volume(f\"targetvol-bottom-{i}.vol\") for i in range(0, 12)]\n",
    "\n",
    "# add all the results together into one volume\n",
    "volume = top[0] + bottom[0]\n",
    "for i in range(1, 12):\n",
    "    volume += top[i]\n",
    "    volume += bottom[i]\n",
    "\n",
    "print(volume.shape)\n",
    "\n",
    "# reads the volume we created\n",
    "bs.plot_fields(volume, (60, 60, 10), (0, 0, 0), 1, which_plane=\"z\", level=6)"
   ]
  }
 ],
 "metadata": {
  "kernelspec": {
   "display_name": "Python 3.10.7 ('venv': venv)",
   "language": "python",
   "name": "python3"
  },
  "language_info": {
   "codemirror_mode": {
    "name": "ipython",
    "version": 3
   },
   "file_extension": ".py",
   "mimetype": "text/x-python",
   "name": "python",
   "nbconvert_exporter": "python",
   "pygments_lexer": "ipython3",
   "version": "3.10.7"
  },
  "vscode": {
   "interpreter": {
    "hash": "1ce20143987840b9786ebb5907032c9c3a8efacbb887dbb0ebc4934f2ad26cb3"
   }
  }
 },
 "nbformat": 4,
 "nbformat_minor": 2
}
